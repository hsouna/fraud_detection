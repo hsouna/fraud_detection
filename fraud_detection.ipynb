{
 "cells": [
  {
   "cell_type": "markdown",
   "metadata": {},
   "source": [
    "# LeBonCoin Fraud Detection\n",
    "This project aims to build classification models to detect rent fraud in the LeBonCoin marketplace"
   ]
  },
  {
   "cell_type": "markdown",
   "metadata": {},
   "source": [
    "### Create Virtual env\n",
    "```bash\n",
    "$ mamba env create --file conda/dev.yaml\n",
    "$ conda activate data_science_machine_learning\n",
    "```"
   ]
  },
  {
   "cell_type": "markdown",
   "metadata": {},
   "source": [
    "### Load datasets\n"
   ]
  },
  {
   "cell_type": "code",
   "execution_count": 2,
   "metadata": {},
   "outputs": [],
   "source": [
    "import numpy as np\n",
    "import pandas as pd\n",
    "import re\n",
    "\n",
    "import warnings\n",
    "warnings.filterwarnings('ignore')"
   ]
  },
  {
   "cell_type": "code",
   "execution_count": 3,
   "metadata": {},
   "outputs": [
    {
     "data": {
      "text/html": [
       "<div>\n",
       "<style scoped>\n",
       "    .dataframe tbody tr th:only-of-type {\n",
       "        vertical-align: middle;\n",
       "    }\n",
       "\n",
       "    .dataframe tbody tr th {\n",
       "        vertical-align: top;\n",
       "    }\n",
       "\n",
       "    .dataframe thead th {\n",
       "        text-align: right;\n",
       "    }\n",
       "</style>\n",
       "<table border=\"1\" class=\"dataframe\">\n",
       "  <thead>\n",
       "    <tr style=\"text-align: right;\">\n",
       "      <th></th>\n",
       "      <th>list_id</th>\n",
       "      <th>first_publication_date</th>\n",
       "      <th>expiration_date</th>\n",
       "      <th>index_date</th>\n",
       "      <th>status</th>\n",
       "      <th>category_id</th>\n",
       "      <th>category_name</th>\n",
       "      <th>subject</th>\n",
       "      <th>body</th>\n",
       "      <th>ad_type</th>\n",
       "      <th>url</th>\n",
       "      <th>price</th>\n",
       "      <th>price_cents</th>\n",
       "      <th>images</th>\n",
       "      <th>attributes</th>\n",
       "      <th>location</th>\n",
       "      <th>owner</th>\n",
       "      <th>options</th>\n",
       "      <th>has_phone</th>\n",
       "      <th>is_boosted</th>\n",
       "    </tr>\n",
       "  </thead>\n",
       "  <tbody>\n",
       "    <tr>\n",
       "      <th>0</th>\n",
       "      <td>2135256182</td>\n",
       "      <td>2022-03-22 17:34:42</td>\n",
       "      <td>2022-05-21 18:34:42</td>\n",
       "      <td>2022-03-30 14:41:10</td>\n",
       "      <td>active</td>\n",
       "      <td>10</td>\n",
       "      <td>Locations</td>\n",
       "      <td>Location Studio Meublé - Lyon 69003</td>\n",
       "      <td>Location Studio Meublé - Lyon 69003\\n\\nDisponi...</td>\n",
       "      <td>offer</td>\n",
       "      <td>https://www.leboncoin.fr/locations/2135256182.htm</td>\n",
       "      <td>[550]</td>\n",
       "      <td>55000</td>\n",
       "      <td>{'thumb_url': 'https://img.leboncoin.fr/api/v1...</td>\n",
       "      <td>[{'key': 'activity_sector', 'value': '6', 'val...</td>\n",
       "      <td>{'country_id': 'FR', 'region_id': '22', 'regio...</td>\n",
       "      <td>{'store_id': '33130486', 'user_id': '2db03cc4-...</td>\n",
       "      <td>{'has_option': False, 'booster': False, 'photo...</td>\n",
       "      <td>False</td>\n",
       "      <td>1.0</td>\n",
       "    </tr>\n",
       "    <tr>\n",
       "      <th>1</th>\n",
       "      <td>2096525179</td>\n",
       "      <td>2022-03-08 19:08:49</td>\n",
       "      <td>2022-05-07 20:08:49</td>\n",
       "      <td>2022-03-29 20:08:50</td>\n",
       "      <td>active</td>\n",
       "      <td>10</td>\n",
       "      <td>Locations</td>\n",
       "      <td>Déménagement, garde meuble, location box sécurisé</td>\n",
       "      <td>Selfstock est le spécialiste dans la location ...</td>\n",
       "      <td>offer</td>\n",
       "      <td>https://www.leboncoin.fr/locations/2096525179.htm</td>\n",
       "      <td>[59]</td>\n",
       "      <td>5900</td>\n",
       "      <td>{'thumb_url': 'https://img.leboncoin.fr/api/v1...</td>\n",
       "      <td>[{'key': 'activity_sector', 'value': '2', 'val...</td>\n",
       "      <td>{'country_id': 'FR', 'region_id': '22', 'regio...</td>\n",
       "      <td>{'store_id': '39897285', 'user_id': '1e6b823c-...</td>\n",
       "      <td>{'has_option': True, 'booster': False, 'photos...</td>\n",
       "      <td>True</td>\n",
       "      <td>1.0</td>\n",
       "    </tr>\n",
       "    <tr>\n",
       "      <th>2</th>\n",
       "      <td>1825420781</td>\n",
       "      <td>2022-02-02 11:26:11</td>\n",
       "      <td>2022-04-03 12:26:11</td>\n",
       "      <td>2022-03-30 12:26:10</td>\n",
       "      <td>active</td>\n",
       "      <td>10</td>\n",
       "      <td>Locations</td>\n",
       "      <td>Location BOX STOCKAGE/GARDE MEUBLE Discount LY...</td>\n",
       "      <td>Resotainer LYON situé à au Port Edouard Herrio...</td>\n",
       "      <td>offer</td>\n",
       "      <td>https://www.leboncoin.fr/locations/1825420781.htm</td>\n",
       "      <td>[32]</td>\n",
       "      <td>3200</td>\n",
       "      <td>{'thumb_url': 'https://img.leboncoin.fr/api/v1...</td>\n",
       "      <td>[{'key': 'activity_sector', 'value': '7', 'val...</td>\n",
       "      <td>{'country_id': 'FR', 'region_id': '22', 'regio...</td>\n",
       "      <td>{'store_id': '5573560', 'user_id': 'a7993a58-d...</td>\n",
       "      <td>{'has_option': True, 'booster': False, 'photos...</td>\n",
       "      <td>True</td>\n",
       "      <td>1.0</td>\n",
       "    </tr>\n",
       "    <tr>\n",
       "      <th>3</th>\n",
       "      <td>2137929861</td>\n",
       "      <td>2022-03-28 13:57:52</td>\n",
       "      <td>2022-05-27 13:57:52</td>\n",
       "      <td>2022-03-28 13:57:52</td>\n",
       "      <td>active</td>\n",
       "      <td>10</td>\n",
       "      <td>Locations</td>\n",
       "      <td>Location suite</td>\n",
       "      <td>Location une suite parentale à jean Mace à 5 m...</td>\n",
       "      <td>offer</td>\n",
       "      <td>https://www.leboncoin.fr/locations/2137929861.htm</td>\n",
       "      <td>[500]</td>\n",
       "      <td>50000</td>\n",
       "      <td>{'thumb_url': 'https://img.leboncoin.fr/api/v1...</td>\n",
       "      <td>[{'key': 'real_estate_type', 'value': '2', 'va...</td>\n",
       "      <td>{'country_id': 'FR', 'region_id': '22', 'regio...</td>\n",
       "      <td>{'store_id': '30741331', 'user_id': 'f3982f0b-...</td>\n",
       "      <td>{'has_option': False, 'booster': False, 'photo...</td>\n",
       "      <td>False</td>\n",
       "      <td>NaN</td>\n",
       "    </tr>\n",
       "    <tr>\n",
       "      <th>4</th>\n",
       "      <td>2104155199</td>\n",
       "      <td>2022-03-26 18:04:02</td>\n",
       "      <td>2022-05-25 19:04:02</td>\n",
       "      <td>2022-03-26 18:04:02</td>\n",
       "      <td>active</td>\n",
       "      <td>10</td>\n",
       "      <td>Locations</td>\n",
       "      <td>Location cave</td>\n",
       "      <td>Cave vieux Lyon proche musée gadagne et mairie...</td>\n",
       "      <td>offer</td>\n",
       "      <td>https://www.leboncoin.fr/locations/2104155199.htm</td>\n",
       "      <td>[78]</td>\n",
       "      <td>7800</td>\n",
       "      <td>{'thumb_url': 'https://img.leboncoin.fr/api/v1...</td>\n",
       "      <td>[{'key': 'real_estate_type', 'value': '5', 'va...</td>\n",
       "      <td>{'country_id': 'FR', 'region_id': '22', 'regio...</td>\n",
       "      <td>{'store_id': '10016300', 'user_id': '2254b2e2-...</td>\n",
       "      <td>{'has_option': False, 'booster': False, 'photo...</td>\n",
       "      <td>False</td>\n",
       "      <td>NaN</td>\n",
       "    </tr>\n",
       "  </tbody>\n",
       "</table>\n",
       "</div>"
      ],
      "text/plain": [
       "      list_id first_publication_date      expiration_date  \\\n",
       "0  2135256182    2022-03-22 17:34:42  2022-05-21 18:34:42   \n",
       "1  2096525179    2022-03-08 19:08:49  2022-05-07 20:08:49   \n",
       "2  1825420781    2022-02-02 11:26:11  2022-04-03 12:26:11   \n",
       "3  2137929861    2022-03-28 13:57:52  2022-05-27 13:57:52   \n",
       "4  2104155199    2022-03-26 18:04:02  2022-05-25 19:04:02   \n",
       "\n",
       "            index_date  status  category_id category_name  \\\n",
       "0  2022-03-30 14:41:10  active           10     Locations   \n",
       "1  2022-03-29 20:08:50  active           10     Locations   \n",
       "2  2022-03-30 12:26:10  active           10     Locations   \n",
       "3  2022-03-28 13:57:52  active           10     Locations   \n",
       "4  2022-03-26 18:04:02  active           10     Locations   \n",
       "\n",
       "                                             subject  \\\n",
       "0                Location Studio Meublé - Lyon 69003   \n",
       "1  Déménagement, garde meuble, location box sécurisé   \n",
       "2  Location BOX STOCKAGE/GARDE MEUBLE Discount LY...   \n",
       "3                                     Location suite   \n",
       "4                                      Location cave   \n",
       "\n",
       "                                                body ad_type  \\\n",
       "0  Location Studio Meublé - Lyon 69003\\n\\nDisponi...   offer   \n",
       "1  Selfstock est le spécialiste dans la location ...   offer   \n",
       "2  Resotainer LYON situé à au Port Edouard Herrio...   offer   \n",
       "3  Location une suite parentale à jean Mace à 5 m...   offer   \n",
       "4  Cave vieux Lyon proche musée gadagne et mairie...   offer   \n",
       "\n",
       "                                                 url  price  price_cents  \\\n",
       "0  https://www.leboncoin.fr/locations/2135256182.htm  [550]        55000   \n",
       "1  https://www.leboncoin.fr/locations/2096525179.htm   [59]         5900   \n",
       "2  https://www.leboncoin.fr/locations/1825420781.htm   [32]         3200   \n",
       "3  https://www.leboncoin.fr/locations/2137929861.htm  [500]        50000   \n",
       "4  https://www.leboncoin.fr/locations/2104155199.htm   [78]         7800   \n",
       "\n",
       "                                              images  \\\n",
       "0  {'thumb_url': 'https://img.leboncoin.fr/api/v1...   \n",
       "1  {'thumb_url': 'https://img.leboncoin.fr/api/v1...   \n",
       "2  {'thumb_url': 'https://img.leboncoin.fr/api/v1...   \n",
       "3  {'thumb_url': 'https://img.leboncoin.fr/api/v1...   \n",
       "4  {'thumb_url': 'https://img.leboncoin.fr/api/v1...   \n",
       "\n",
       "                                          attributes  \\\n",
       "0  [{'key': 'activity_sector', 'value': '6', 'val...   \n",
       "1  [{'key': 'activity_sector', 'value': '2', 'val...   \n",
       "2  [{'key': 'activity_sector', 'value': '7', 'val...   \n",
       "3  [{'key': 'real_estate_type', 'value': '2', 'va...   \n",
       "4  [{'key': 'real_estate_type', 'value': '5', 'va...   \n",
       "\n",
       "                                            location  \\\n",
       "0  {'country_id': 'FR', 'region_id': '22', 'regio...   \n",
       "1  {'country_id': 'FR', 'region_id': '22', 'regio...   \n",
       "2  {'country_id': 'FR', 'region_id': '22', 'regio...   \n",
       "3  {'country_id': 'FR', 'region_id': '22', 'regio...   \n",
       "4  {'country_id': 'FR', 'region_id': '22', 'regio...   \n",
       "\n",
       "                                               owner  \\\n",
       "0  {'store_id': '33130486', 'user_id': '2db03cc4-...   \n",
       "1  {'store_id': '39897285', 'user_id': '1e6b823c-...   \n",
       "2  {'store_id': '5573560', 'user_id': 'a7993a58-d...   \n",
       "3  {'store_id': '30741331', 'user_id': 'f3982f0b-...   \n",
       "4  {'store_id': '10016300', 'user_id': '2254b2e2-...   \n",
       "\n",
       "                                             options  has_phone  is_boosted  \n",
       "0  {'has_option': False, 'booster': False, 'photo...      False         1.0  \n",
       "1  {'has_option': True, 'booster': False, 'photos...       True         1.0  \n",
       "2  {'has_option': True, 'booster': False, 'photos...       True         1.0  \n",
       "3  {'has_option': False, 'booster': False, 'photo...      False         NaN  \n",
       "4  {'has_option': False, 'booster': False, 'photo...      False         NaN  "
      ]
     },
     "execution_count": 3,
     "metadata": {},
     "output_type": "execute_result"
    }
   ],
   "source": [
    "lyondf = pd.read_json('https://pages.isfa.fr/~mai2121213/dataScience/data/lyon/Lyon.json')\n",
    "lyondf.head()"
   ]
  },
  {
   "cell_type": "code",
   "execution_count": 4,
   "metadata": {},
   "outputs": [],
   "source": [
    "def get_value_from_attributes(attributes,key,value_label=False):\n",
    "    inlist = [key in attribute[\"key\"] for attribute in attributes]\n",
    "    try:\n",
    "        # this will throw error if True is not found\n",
    "        index = inlist.index(True)\n",
    "\n",
    "        return attributes[index][\"value_label\"] if value_label else attributes[index][\"value\"]\n",
    "\n",
    "    except ValueError:\n",
    "        return"
   ]
  },
  {
   "cell_type": "markdown",
   "metadata": {},
   "source": [
    "Get Values from the attributes array"
   ]
  },
  {
   "cell_type": "code",
   "execution_count": 5,
   "metadata": {},
   "outputs": [],
   "source": [
    "lyondf[\"real_estate_type\"] = lyondf[\"attributes\"].apply(get_value_from_attributes,key=\"real_estate_type\",value_label=True)\n",
    "lyondf[\"real_estate_type_value\"] = lyondf[\"attributes\"].apply(get_value_from_attributes,key=\"real_estate_type\")\n",
    "lyondf[\"furnished\"] = lyondf[\"attributes\"].apply(get_value_from_attributes,key=\"furnished\")\n",
    "lyondf[\"square\"] = lyondf[\"attributes\"].apply(get_value_from_attributes,key=\"square\")\n",
    "lyondf[\"charges_included\"] = lyondf[\"attributes\"].apply(get_value_from_attributes,key=\"charges_included\")\n",
    "lyondf[\"rooms\"] = lyondf[\"attributes\"].apply(get_value_from_attributes,key=\"rooms\")"
   ]
  },
  {
   "cell_type": "markdown",
   "metadata": {},
   "source": [
    "#### Get errors from given text\n",
    "* Go to `https://textgears.com/signup?shutupandgiveme=thekey`\n",
    "* Activate the API Key\n",
    "\n",
    "Ps: You can use any email (There is no email verification ^^)\n",
    "(This might taks time because it communicates with another service)"
   ]
  },
  {
   "cell_type": "code",
   "execution_count": 29,
   "metadata": {},
   "outputs": [],
   "source": [
    "import requests\n",
    "from requests.exceptions import ConnectionError\n",
    "\n",
    "def get_text_errors_nb(text):\n",
    "    url = f'https://api.textgears.com/grammar?key=PzFH3QNGgDc2UBfi&text=\"{text}\"&language=fr-FR'\n",
    "    try:\n",
    "        response = requests.get(url)\n",
    "    except ConnectionError:\n",
    "        response = None\n",
    "    if response and response.json()[\"status\"]:\n",
    "        content = response.json()\n",
    "        errors = content[\"response\"][\"errors\"]\n",
    "        return len(errors)\n"
   ]
  },
  {
   "cell_type": "code",
   "execution_count": null,
   "metadata": {},
   "outputs": [],
   "source": [
    "lyondf[\"description_errors\"] = lyondf[\"body\"].apply(lambda x: get_text_errors_nb(x))"
   ]
  },
  {
   "cell_type": "code",
   "execution_count": 6,
   "metadata": {},
   "outputs": [],
   "source": [
    "def get_value_from_object(object,key):\n",
    "    try:\n",
    "        value = object[key]\n",
    "        return value\n",
    "    except KeyError:\n",
    "        return "
   ]
  },
  {
   "cell_type": "markdown",
   "metadata": {},
   "source": [
    "Get values from the Location object"
   ]
  },
  {
   "cell_type": "code",
   "execution_count": 7,
   "metadata": {},
   "outputs": [],
   "source": [
    "lyondf[\"zipcode\"] = lyondf[\"location\"].apply(get_value_from_object,key=\"zipcode\")\n",
    "lyondf[\"lat\"] = lyondf[\"location\"].apply(get_value_from_object,key=\"lat\")\n",
    "lyondf[\"lng\"] = lyondf[\"location\"].apply(get_value_from_object,key=\"lng\")"
   ]
  },
  {
   "cell_type": "markdown",
   "metadata": {},
   "source": [
    "Get values from User object"
   ]
  },
  {
   "cell_type": "code",
   "execution_count": 8,
   "metadata": {},
   "outputs": [],
   "source": [
    "lyondf[\"user_id\"] = lyondf[\"owner\"].apply(get_value_from_object,key=\"user_id\")\n",
    "lyondf[\"user_type\"] = lyondf[\"owner\"].apply(get_value_from_object,key=\"type\")\n",
    "lyondf[\"user_siren\"] = lyondf[\"owner\"].apply(get_value_from_object,key=\"siren\")"
   ]
  },
  {
   "cell_type": "markdown",
   "metadata": {},
   "source": [
    "Get number of images"
   ]
  },
  {
   "cell_type": "code",
   "execution_count": 9,
   "metadata": {},
   "outputs": [],
   "source": [
    "lyondf[\"nb_images\"] = lyondf[\"images\"].apply(lambda x: x[\"nb_images\"])"
   ]
  },
  {
   "cell_type": "markdown",
   "metadata": {},
   "source": [
    "Get description length"
   ]
  },
  {
   "cell_type": "code",
   "execution_count": 11,
   "metadata": {},
   "outputs": [],
   "source": [
    "lyondf[\"description_length\"] = lyondf[\"body\"].apply(lambda x: len(re.findall(r'\\w+', x)))"
   ]
  },
  {
   "cell_type": "code",
   "execution_count": 61,
   "metadata": {},
   "outputs": [],
   "source": [
    "lyondf[\"ratio_description_errors\"] = lyondf[\"description_length\"] / ((lyondf[\"description_errors\"] + 1) * lyondf[\"description_length\"])"
   ]
  },
  {
   "cell_type": "markdown",
   "metadata": {},
   "source": [
    "*Not sure about this Ratio..*"
   ]
  },
  {
   "cell_type": "code",
   "execution_count": 62,
   "metadata": {},
   "outputs": [
    {
     "data": {
      "text/plain": [
       "count    613.000000\n",
       "mean       0.272850\n",
       "std        0.228213\n",
       "min        0.015873\n",
       "25%        0.125000\n",
       "50%        0.200000\n",
       "75%        0.333333\n",
       "max        1.000000\n",
       "Name: ratio_description_errors, dtype: float64"
      ]
     },
     "execution_count": 62,
     "metadata": {},
     "output_type": "execute_result"
    }
   ],
   "source": [
    "lyondf[\"ratio_description_errors\"].describe()"
   ]
  },
  {
   "cell_type": "code",
   "execution_count": 13,
   "metadata": {},
   "outputs": [],
   "source": [
    "clean_lyondf = lyondf.copy()"
   ]
  },
  {
   "cell_type": "markdown",
   "metadata": {},
   "source": [
    "Now, we get the features that seem important to us. And drop the columns that we don't need. Some of the columns are not used because we already extracted meaningful knowledge from them. (Like the images)"
   ]
  },
  {
   "cell_type": "code",
   "execution_count": 17,
   "metadata": {},
   "outputs": [],
   "source": [
    "clean_lyondf = clean_lyondf.drop(columns=[\"list_id\",\"index_date\",\"category_id\",\"category_name\",\"price\",\"images\",\"attributes\",\"location\",\"owner\",\"options\",\"expiration_date\",\"first_publication_date\",\"url\",\"subject\",\"body\"])"
   ]
  },
  {
   "cell_type": "code",
   "execution_count": 18,
   "metadata": {},
   "outputs": [
    {
     "data": {
      "text/plain": [
       "Index(['status', 'ad_type', 'price_cents', 'has_phone', 'is_boosted',\n",
       "       'real_estate_type', 'real_estate_type_value', 'furnished', 'square',\n",
       "       'charges_included', 'rooms', 'zipcode', 'lat', 'lng', 'user_id',\n",
       "       'user_type', 'user_siren', 'nb_images', 'description_length'],\n",
       "      dtype='object')"
      ]
     },
     "execution_count": 18,
     "metadata": {},
     "output_type": "execute_result"
    }
   ],
   "source": [
    "clean_lyondf.columns"
   ]
  }
 ],
 "metadata": {
  "kernelspec": {
   "display_name": "Python 3",
   "language": "python",
   "name": "python3"
  },
  "language_info": {
   "codemirror_mode": {
    "name": "ipython",
    "version": 3
   },
   "file_extension": ".py",
   "mimetype": "text/x-python",
   "name": "python",
   "nbconvert_exporter": "python",
   "pygments_lexer": "ipython3",
   "version": "3.9.0"
  }
 },
 "nbformat": 4,
 "nbformat_minor": 4
}
